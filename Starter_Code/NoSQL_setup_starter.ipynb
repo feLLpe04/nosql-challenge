{
 "cells": [
  {
   "cell_type": "markdown",
   "id": "9a57c4c6",
   "metadata": {},
   "source": [
    "# Eat Safe, Love"
   ]
  },
  {
   "cell_type": "markdown",
   "id": "064ef857",
   "metadata": {},
   "source": [
    "## Part 1: Database and Jupyter Notebook Set Up"
   ]
  },
  {
   "cell_type": "markdown",
   "id": "664e3c1f",
   "metadata": {},
   "source": [
    "Import the data provided in the `establishments.json` file from your Terminal. Name the database `uk_food` and the collection `establishments`.\n",
    "\n",
    "Within this markdown cell, copy the line of text you used to import the data from your Terminal. This way, future analysts will be able to repeat your process.\n",
    "\n",
    "e.g.: Import the dataset with `YOUR IMPORT TEXT HERE`"
   ]
  },
  {
   "cell_type": "code",
   "execution_count": 182,
   "id": "3ecdd008",
   "metadata": {},
   "outputs": [],
   "source": [
    "# Import dependencies\n",
    "from pymongo import MongoClient\n",
    "from pprint import pprint\n",
    "import matplotlib.pyplot as plt"
   ]
  },
  {
   "cell_type": "code",
   "execution_count": 183,
   "id": "59390c4a",
   "metadata": {},
   "outputs": [],
   "source": [
    "# Create an instance of MongoClient\n",
    "mongo = MongoClient(port=27017)"
   ]
  },
  {
   "cell_type": "code",
   "execution_count": 184,
   "id": "006f1a71",
   "metadata": {},
   "outputs": [
    {
     "name": "stdout",
     "output_type": "stream",
     "text": [
      "Valid JSON\n"
     ]
    }
   ],
   "source": [
    "#Verifying JSON file, and is valid \n",
    "import json\n",
    "\n",
    "# Replace 'file_path.json' with the actual path to your JSON file\n",
    "file_path = r\"C:\\Users\\User\\Desktop\\nosql-challenge\\Starter_Code\\Resources\\establishments.json\"\n",
    "\n",
    "with open(file_path, 'r') as file:\n",
    "    try:\n",
    "        data = json.load(file)\n",
    "        print(\"Valid JSON\")\n",
    "    except json.JSONDecodeError as e:\n",
    "        print(\"Invalid JSON\")\n",
    "        print(e)\n"
   ]
  },
  {
   "cell_type": "code",
   "execution_count": 185,
   "id": "7f9ececa",
   "metadata": {},
   "outputs": [
    {
     "name": "stdout",
     "output_type": "stream",
     "text": [
      "['admin', 'config', 'local', 'metmuseum', 'uk_food']\n"
     ]
    }
   ],
   "source": [
    "# confirm that our new database was created\n",
    "print(mongo.list_database_names())"
   ]
  },
  {
   "cell_type": "code",
   "execution_count": 186,
   "id": "71e373c1",
   "metadata": {},
   "outputs": [],
   "source": [
    "# assign the uk_food database to a variable name\n",
    "db = mongo['uk_food']"
   ]
  },
  {
   "cell_type": "code",
   "execution_count": 187,
   "id": "ef1b89ed",
   "metadata": {},
   "outputs": [
    {
     "name": "stdout",
     "output_type": "stream",
     "text": [
      "['establishments', 'business_types']\n"
     ]
    }
   ],
   "source": [
    "# review the collections in our new database\n",
    "print(db.list_collection_names())"
   ]
  },
  {
   "cell_type": "code",
   "execution_count": 188,
   "id": "18ab463c",
   "metadata": {},
   "outputs": [
    {
     "name": "stdout",
     "output_type": "stream",
     "text": [
      "['establishments', 'business_types']\n"
     ]
    }
   ],
   "source": [
    "# review the collections in our new database\n",
    "print(db.list_collection_names())"
   ]
  },
  {
   "cell_type": "code",
   "execution_count": 189,
   "id": "6a0d92df",
   "metadata": {},
   "outputs": [
    {
     "name": "stdout",
     "output_type": "stream",
     "text": [
      "{'_id': ObjectId('6743d6b1f1930123e5ddfb8d'), 'FHRSID': 1043695, 'ChangesByServerID': 0, 'LocalAuthorityBusinessID': 'PI/000073616', 'BusinessName': 'The Pavilion', 'BusinessType': 'Restaurant/Cafe/Canteen', 'BusinessTypeID': 1, 'AddressLine1': 'East Cliff Pavilion', 'AddressLine2': 'Wear Bay Road', 'AddressLine3': 'Folkestone', 'AddressLine4': 'Kent', 'PostCode': 'CT19 6BL', 'Phone': '', 'RatingValue': 5, 'RatingKey': 'fhrs_5_en-gb', 'RatingDate': '2018-04-04T00:00:00', 'LocalAuthorityCode': '188', 'LocalAuthorityName': 'Folkestone and Hythe', 'LocalAuthorityWebSite': 'http://www.folkestone-hythe.gov.uk', 'LocalAuthorityEmailAddress': 'foodteam@folkestone-hythe.gov.uk', 'scores': {'Hygiene': 5, 'Structural': 5, 'ConfidenceInManagement': 5}, 'SchemeType': 'FHRS', 'geocode': {'longitude': {'$toDouble': '$geocode.longitude'}, 'latitude': {'$toDouble': '$geocode.latitude'}}, 'RightToReply': '', 'Distance': 4591.765489457773, 'NewRatingPending': False, 'meta': {'dataSource': None, 'extractDate': '0001-01-01T00:00:00', 'itemCount': 0, 'returncode': None, 'totalCount': 0, 'totalPages': 0, 'pageSize': 0, 'pageNumber': 0}, 'links': [{'rel': 'self', 'href': 'https://api.ratings.food.gov.uk/establishments/1043695'}]}\n"
     ]
    }
   ],
   "source": [
    "# review a document in the establishments collection\n",
    "print(db.establishments.find_one())"
   ]
  },
  {
   "cell_type": "code",
   "execution_count": 190,
   "id": "11c9f11b",
   "metadata": {},
   "outputs": [],
   "source": [
    "# assign the collection to a variable\n",
    "establishments = db['establishments']"
   ]
  },
  {
   "cell_type": "markdown",
   "id": "d5671434",
   "metadata": {},
   "source": [
    "## Part 2: Update the Database"
   ]
  },
  {
   "cell_type": "markdown",
   "id": "314bd884",
   "metadata": {},
   "source": [
    "1. An exciting new halal restaurant just opened in Greenwich, but hasn't been rated yet. The magazine has asked you to include it in your analysis. Add the following restaurant \"Penang Flavours\" to the database."
   ]
  },
  {
   "cell_type": "code",
   "execution_count": 191,
   "id": "c2da7648",
   "metadata": {},
   "outputs": [],
   "source": [
    "# Create a dictionary for the new restaurant data\n",
    "new_restaurant = {\n",
    "    \"BusinessName\": \"The Best Restaurant\",\n",
    "    \"BusinessType\": \"Restaurant\",\n",
    "    \"AddressLine1\": \"123 Fake Street\",\n",
    "    \"AddressLine2\": \"Fakeville\",\n",
    "    \"AddressLine3\": \"Faketon\",\n",
    "    \"PostCode\": \"FA1 2KE\",\n",
    "    \"RatingValue\": \"5\",\n",
    "    \"RatingDate\": \"01/01/2020\",\n",
    "    \"LocalAuthorityBusinessID\": \"123456\",\n",
    "    \"LocalAuthorityCode\": \"FAKE\",\n",
    "    \"LocalAuthorityName\": \"Fake District Council\",\n",
    "    \"LocalAuthorityWebSite\": \"www.fakedistrictcouncil.gov.uk\",\n",
    "    \"LocalAuthorityEmailAddress\": \"contact@fakedistrictcouncil.gov.uk\"\n",
    "}\n",
    "\n"
   ]
  },
  {
   "cell_type": "code",
   "execution_count": 192,
   "id": "a6e5cece",
   "metadata": {},
   "outputs": [
    {
     "data": {
      "text/plain": [
       "InsertOneResult(ObjectId('67468a7d9cb817c2ce34f14a'), acknowledged=True)"
      ]
     },
     "execution_count": 192,
     "metadata": {},
     "output_type": "execute_result"
    }
   ],
   "source": [
    "# Insert the new restaurant into the collection\n",
    "establishments.insert_one(new_restaurant)\n"
   ]
  },
  {
   "cell_type": "code",
   "execution_count": 193,
   "id": "63bb10f9",
   "metadata": {},
   "outputs": [
    {
     "name": "stdout",
     "output_type": "stream",
     "text": [
      "{'AddressLine1': '123 Fake Street',\n",
      " 'AddressLine2': 'Fakeville',\n",
      " 'AddressLine3': 'Faketon',\n",
      " 'BusinessName': 'The Best Restaurant',\n",
      " 'BusinessType': 'Restaurant',\n",
      " 'BusinessTypeID': 1,\n",
      " 'LocalAuthorityBusinessID': '123456',\n",
      " 'LocalAuthorityCode': 'FAKE',\n",
      " 'LocalAuthorityEmailAddress': 'contact@fakedistrictcouncil.gov.uk',\n",
      " 'LocalAuthorityName': 'Fake District Council',\n",
      " 'LocalAuthorityWebSite': 'www.fakedistrictcouncil.gov.uk',\n",
      " 'PostCode': 'FA1 2KE',\n",
      " 'RatingDate': '01/01/2020',\n",
      " 'RatingValue': 5,\n",
      " '_id': ObjectId('6743fa75c2d47733ac586a68')}\n"
     ]
    }
   ],
   "source": [
    "# Check that the new restaurant was inserted\n",
    "pprint(establishments.find_one({\"BusinessName\": \"The Best Restaurant\"}))\n"
   ]
  },
  {
   "cell_type": "markdown",
   "id": "0ef4395a",
   "metadata": {},
   "source": [
    "2. Find the BusinessTypeID for \"Restaurant/Cafe/Canteen\" and return only the `BusinessTypeID` and `BusinessType` fields."
   ]
  },
  {
   "cell_type": "code",
   "execution_count": 194,
   "id": "93c63829",
   "metadata": {},
   "outputs": [],
   "source": [
    "# Find the BusinessTypeID for \"Restaurant/Cafe/Canteen\" and return only the BusinessTypeID and BusinessType fields\n",
    "business_type = db.business_types.find_one({\"BusinessType\": \"Restaurant/Cafe/Canteen\"}, {\"_id\": 0, \"BusinessTypeID\": 1, \"BusinessType\": 1})"
   ]
  },
  {
   "cell_type": "markdown",
   "id": "4e570caf",
   "metadata": {},
   "source": [
    "3. Update the new restaurant with the `BusinessTypeID` you found."
   ]
  },
  {
   "cell_type": "code",
   "execution_count": 195,
   "id": "7f599f3d",
   "metadata": {},
   "outputs": [
    {
     "name": "stdout",
     "output_type": "stream",
     "text": [
      "BusinessTypeID for 'Penang Flavours' updated.\n"
     ]
    },
    {
     "data": {
      "text/plain": [
       "InsertOneResult(ObjectId('67468a7d9cb817c2ce34f14b'), acknowledged=True)"
      ]
     },
     "execution_count": 195,
     "metadata": {},
     "output_type": "execute_result"
    }
   ],
   "source": [
    "# Update the new restaurant with the correct BusinessTypeID\n",
    "# Find the BusinessTypeID for \"Restaurant/Cafe/Canteen\"\n",
    "business_type = db.business_types.find_one(\n",
    "    {\"BusinessType\": \"Restaurant/Cafe/Canteen\"},\n",
    "    {\"_id\": 0, \"BusinessTypeID\": 1, \"BusinessType\": 1}\n",
    ")\n",
    "\n",
    "if business_type:\n",
    "    db.establishments.update_one(\n",
    "        {\"BusinessName\": \"Penang Flavours\"},  # Match the restaurant name\n",
    "        {\"$set\": {\"BusinessTypeID\": business_type[\"BusinessTypeID\"]}}  # Update BusinessTypeID\n",
    "    )\n",
    "    print(\"BusinessTypeID for 'Penang Flavours' updated.\")\n",
    "else:\n",
    "    print(\"BusinessTypeID for 'Restaurant/Cafe/Canteen' not found.\")\n",
    "\n",
    "# Adding the new restaurant to the database\n",
    "establishments.insert_one({\n",
    "    \"BusinessName\": \"Penang Flavours\",\n",
    "    \"BusinessType\": \"Restaurant/Cafe/Canteen\",\n",
    "    \"AddressLine1\": \"123 Fake Street\",\n",
    "    \"AddressLine2\": \"Fakeville\",\n",
    "    \"AddressLine3\": \"Faketon\",\n",
    "    \"PostCode\": \"FA1 2KE\",\n",
    "    \"RatingValue\": 5,\n",
    "    \"geocode\": {\"latitude\": 51.5081, \"longitude\": -0.0759}\n",
    "})\n",
    "\n"
   ]
  },
  {
   "cell_type": "code",
   "execution_count": 196,
   "id": "379a3a88",
   "metadata": {},
   "outputs": [
    {
     "data": {
      "text/plain": [
       "InsertOneResult(ObjectId('67468a7d9cb817c2ce34f14c'), acknowledged=True)"
      ]
     },
     "execution_count": 196,
     "metadata": {},
     "output_type": "execute_result"
    }
   ],
   "source": [
    "db.business_types.insert_one({\n",
    "    \"BusinessType\": \"Restaurant/Cafe/Canteen\",\n",
    "    \"BusinessTypeID\": 1\n",
    "})\n"
   ]
  },
  {
   "cell_type": "code",
   "execution_count": 197,
   "id": "a6ad16f7",
   "metadata": {},
   "outputs": [
    {
     "name": "stdout",
     "output_type": "stream",
     "text": [
      "[{'_id': ObjectId('67440919c2d47733ac586a69'), 'BusinessType': 'Restaurant/Cafe/Canteen', 'BusinessTypeID': 1}, {'_id': ObjectId('6744093bc2d47733ac586a6c'), 'BusinessType': 'Restaurant/Cafe/Canteen', 'BusinessTypeID': 1}, {'_id': ObjectId('674409afc2d47733ac586a6d'), 'BusinessType': 'Restaurant/Cafe/Canteen', 'BusinessTypeID': 1}, {'_id': ObjectId('6744cee09967f7c8340de1a6'), 'BusinessType': 'Restaurant/Cafe/Canteen', 'BusinessTypeID': 1}, {'_id': ObjectId('67451aa14a8f3808a5a71ce7'), 'BusinessType': 'Restaurant/Cafe/Canteen', 'BusinessTypeID': 1}, {'_id': ObjectId('67451b0b4a8f3808a5a71cea'), 'BusinessType': 'Restaurant/Cafe/Canteen', 'BusinessTypeID': 1}, {'_id': ObjectId('67467f3c9cb817c2ce34f138'), 'BusinessType': 'Restaurant/Cafe/Canteen', 'BusinessTypeID': 1}, {'_id': ObjectId('6746811e9cb817c2ce34f13b'), 'BusinessType': 'Restaurant/Cafe/Canteen', 'BusinessTypeID': 1}, {'_id': ObjectId('674682339cb817c2ce34f140'), 'BusinessType': 'Restaurant/Cafe/Canteen', 'BusinessTypeID': 1}, {'_id': ObjectId('674689349cb817c2ce34f143'), 'BusinessType': 'Restaurant/Cafe/Canteen', 'BusinessTypeID': 1}, {'_id': ObjectId('67468a559cb817c2ce34f148'), 'BusinessType': 'Restaurant/Cafe/Canteen', 'BusinessTypeID': 1}, {'_id': ObjectId('67468a7d9cb817c2ce34f14c'), 'BusinessType': 'Restaurant/Cafe/Canteen', 'BusinessTypeID': 1}]\n"
     ]
    }
   ],
   "source": [
    "# Confirm that the new restaurant was updated\n",
    "print(list(db.business_types.find()))\n"
   ]
  },
  {
   "cell_type": "markdown",
   "id": "67281254",
   "metadata": {},
   "source": [
    "4. The magazine is not interested in any establishments in Dover, so check how many documents contain the Dover Local Authority. Then, remove any establishments within the Dover Local Authority from the database, and check the number of documents to ensure they were deleted."
   ]
  },
  {
   "cell_type": "code",
   "execution_count": 198,
   "id": "6fe57937",
   "metadata": {},
   "outputs": [
    {
     "name": "stdout",
     "output_type": "stream",
     "text": [
      "Number of establishments in Dover before deletion: 0\n"
     ]
    }
   ],
   "source": [
    "# Find how many documents have LocalAuthorityName as \"Dover\"\n",
    "dover_count_before = establishments.count_documents({\"LocalAuthorityName\": \"Dover\"})\n",
    "print(f\"Number of establishments in Dover before deletion: {dover_count_before}\")\n"
   ]
  },
  {
   "cell_type": "code",
   "execution_count": 199,
   "id": "768474a6",
   "metadata": {},
   "outputs": [],
   "source": [
    "\n",
    "dover_count = establishments.count_documents({\"LocalAuthorityName\": \"Dover\"})"
   ]
  },
  {
   "cell_type": "code",
   "execution_count": 200,
   "id": "a11d5f1b",
   "metadata": {},
   "outputs": [
    {
     "data": {
      "text/plain": [
       "DeleteResult({'n': 0, 'ok': 1.0}, acknowledged=True)"
      ]
     },
     "execution_count": 200,
     "metadata": {},
     "output_type": "execute_result"
    }
   ],
   "source": [
    "# Delete all documents where LocalAuthorityName is \"Dover\"\n",
    "establishments.delete_many({\"LocalAuthorityName\": \"Dover\"})"
   ]
  },
  {
   "cell_type": "code",
   "execution_count": 201,
   "id": "115b97f2",
   "metadata": {},
   "outputs": [
    {
     "name": "stdout",
     "output_type": "stream",
     "text": [
      "Number of documents deleted: 0\n"
     ]
    }
   ],
   "source": [
    "delete_result = establishments.delete_many({\"LocalAuthorityName\": \"Dover\"})\n",
    "print(f\"Number of documents deleted: {delete_result.deleted_count}\")\n"
   ]
  },
  {
   "cell_type": "code",
   "execution_count": 202,
   "id": "8c356f7b",
   "metadata": {},
   "outputs": [
    {
     "name": "stdout",
     "output_type": "stream",
     "text": [
      "{'AddressLine1': 'East Cliff Pavilion',\n",
      " 'AddressLine2': 'Wear Bay Road',\n",
      " 'AddressLine3': 'Folkestone',\n",
      " 'AddressLine4': 'Kent',\n",
      " 'BusinessName': 'The Pavilion',\n",
      " 'BusinessType': 'Restaurant/Cafe/Canteen',\n",
      " 'BusinessTypeID': 1,\n",
      " 'ChangesByServerID': 0,\n",
      " 'Distance': 4591.765489457773,\n",
      " 'FHRSID': 1043695,\n",
      " 'LocalAuthorityBusinessID': 'PI/000073616',\n",
      " 'LocalAuthorityCode': '188',\n",
      " 'LocalAuthorityEmailAddress': 'foodteam@folkestone-hythe.gov.uk',\n",
      " 'LocalAuthorityName': 'Folkestone and Hythe',\n",
      " 'LocalAuthorityWebSite': 'http://www.folkestone-hythe.gov.uk',\n",
      " 'NewRatingPending': False,\n",
      " 'Phone': '',\n",
      " 'PostCode': 'CT19 6BL',\n",
      " 'RatingDate': '2018-04-04T00:00:00',\n",
      " 'RatingKey': 'fhrs_5_en-gb',\n",
      " 'RatingValue': 5,\n",
      " 'RightToReply': '',\n",
      " 'SchemeType': 'FHRS',\n",
      " '_id': ObjectId('6743d6b1f1930123e5ddfb8d'),\n",
      " 'geocode': {'latitude': {'$toDouble': '$geocode.latitude'},\n",
      "             'longitude': {'$toDouble': '$geocode.longitude'}},\n",
      " 'links': [{'href': 'https://api.ratings.food.gov.uk/establishments/1043695',\n",
      "            'rel': 'self'}],\n",
      " 'meta': {'dataSource': None,\n",
      "          'extractDate': '0001-01-01T00:00:00',\n",
      "          'itemCount': 0,\n",
      "          'pageNumber': 0,\n",
      "          'pageSize': 0,\n",
      "          'returncode': None,\n",
      "          'totalCount': 0,\n",
      "          'totalPages': 0},\n",
      " 'scores': {'ConfidenceInManagement': 5, 'Hygiene': 5, 'Structural': 5}}\n"
     ]
    }
   ],
   "source": [
    "# Check that other documents remain with 'find_one'\n",
    "pprint(establishments.find_one())"
   ]
  },
  {
   "attachments": {},
   "cell_type": "markdown",
   "id": "e9f1662d",
   "metadata": {},
   "source": [
    "5. Some of the number values are stored as strings, when they should be stored as numbers."
   ]
  },
  {
   "attachments": {},
   "cell_type": "markdown",
   "id": "c46df2df",
   "metadata": {},
   "source": [
    "Use `update_many` to convert `latitude` and `longitude` to decimal numbers."
   ]
  },
  {
   "cell_type": "code",
   "execution_count": 203,
   "id": "fd4112ce",
   "metadata": {},
   "outputs": [],
   "source": [
    "# Change the data type from String to Decimal for longitude and latitude\n",
    "# Find all documents with a longitude and latitude\n",
    "for doc in establishments.find({\"Location.Latitude\": {\"$type\": \"string\"}}):\n",
    "    # Update the data type for longitude and latitude\n",
    "    establishments.update_one(\n",
    "        {\"_id\": doc[\"_id\"]},\n",
    "        {\"$set\": {\n",
    "            \"Location.Latitude\": float(doc[\"Location\"][\"Latitude\"]),\n",
    "            \"Location.Longitude\": float(doc[\"Location\"][\"Longitude\"])\n",
    "        }}\n",
    "    )\n",
    "    "
   ]
  },
  {
   "attachments": {},
   "cell_type": "markdown",
   "id": "142e319c",
   "metadata": {},
   "source": [
    "Use `update_many` to convert `RatingValue` to integer numbers.\n"
   ]
  },
  {
   "cell_type": "code",
   "execution_count": 204,
   "id": "04430a5b",
   "metadata": {},
   "outputs": [
    {
     "data": {
      "text/plain": [
       "UpdateResult({'n': 0, 'nModified': 0, 'ok': 1.0, 'updatedExisting': False}, acknowledged=True)"
      ]
     },
     "execution_count": 204,
     "metadata": {},
     "output_type": "execute_result"
    }
   ],
   "source": [
    "# Set non 1-5 Rating Values to Null\n",
    "non_ratings = [\"AwaitingInspection\", \"Awaiting Inspection\", \"AwaitingPublication\", \"Pass\", \"Exempt\"]\n",
    "establishments.update_many({\"RatingValue\": {\"$in\": non_ratings}}, [ {'$set':{ \"RatingValue\" : None}} ])"
   ]
  },
  {
   "cell_type": "code",
   "execution_count": 205,
   "id": "92524ccc",
   "metadata": {},
   "outputs": [
    {
     "data": {
      "text/plain": [
       "UpdateResult({'n': 77589, 'nModified': 1, 'ok': 1.0, 'updatedExisting': True}, acknowledged=True)"
      ]
     },
     "execution_count": 205,
     "metadata": {},
     "output_type": "execute_result"
    }
   ],
   "source": [
    "# Change the data type from String to Integer for RatingValue\n",
    "establishments.update_many({}, [{\"$set\": {\"RatingValue\": {\"$toInt\": \"$RatingValue\"}}}])"
   ]
  },
  {
   "cell_type": "code",
   "execution_count": 206,
   "id": "0deacaf9",
   "metadata": {},
   "outputs": [
    {
     "name": "stdout",
     "output_type": "stream",
     "text": [
      "{'AddressLine1': 'East Cliff Pavilion',\n",
      " 'AddressLine2': 'Wear Bay Road',\n",
      " 'AddressLine3': 'Folkestone',\n",
      " 'AddressLine4': 'Kent',\n",
      " 'BusinessName': 'The Pavilion',\n",
      " 'BusinessType': 'Restaurant/Cafe/Canteen',\n",
      " 'BusinessTypeID': 1,\n",
      " 'ChangesByServerID': 0,\n",
      " 'Distance': 4591.765489457773,\n",
      " 'FHRSID': 1043695,\n",
      " 'LocalAuthorityBusinessID': 'PI/000073616',\n",
      " 'LocalAuthorityCode': '188',\n",
      " 'LocalAuthorityEmailAddress': 'foodteam@folkestone-hythe.gov.uk',\n",
      " 'LocalAuthorityName': 'Folkestone and Hythe',\n",
      " 'LocalAuthorityWebSite': 'http://www.folkestone-hythe.gov.uk',\n",
      " 'NewRatingPending': False,\n",
      " 'Phone': '',\n",
      " 'PostCode': 'CT19 6BL',\n",
      " 'RatingDate': '2018-04-04T00:00:00',\n",
      " 'RatingKey': 'fhrs_5_en-gb',\n",
      " 'RatingValue': 5,\n",
      " 'RightToReply': '',\n",
      " 'SchemeType': 'FHRS',\n",
      " '_id': ObjectId('6743d6b1f1930123e5ddfb8d'),\n",
      " 'geocode': {'latitude': {'$toDouble': '$geocode.latitude'},\n",
      "             'longitude': {'$toDouble': '$geocode.longitude'}},\n",
      " 'links': [{'href': 'https://api.ratings.food.gov.uk/establishments/1043695',\n",
      "            'rel': 'self'}],\n",
      " 'meta': {'dataSource': None,\n",
      "          'extractDate': '0001-01-01T00:00:00',\n",
      "          'itemCount': 0,\n",
      "          'pageNumber': 0,\n",
      "          'pageSize': 0,\n",
      "          'returncode': None,\n",
      "          'totalCount': 0,\n",
      "          'totalPages': 0},\n",
      " 'scores': {'ConfidenceInManagement': 5, 'Hygiene': 5, 'Structural': 5}}\n"
     ]
    }
   ],
   "source": [
    "# Check that the coordinates and rating value are now numbers\n",
    "pprint(establishments.find_one())"
   ]
  },
  {
   "cell_type": "code",
   "execution_count": 207,
   "id": "3faeef87",
   "metadata": {},
   "outputs": [
    {
     "name": "stdout",
     "output_type": "stream",
     "text": [
      "Number of establishments in Dover: 0\n"
     ]
    }
   ],
   "source": [
    "# Find how many documents have LocalAuthorityName as \"Dover\"\n",
    "dover_count = establishments.count_documents({\"LocalAuthorityName\": \"Dover\"})\n",
    "print(f\"Number of establishments in Dover: {dover_count}\")\n"
   ]
  },
  {
   "cell_type": "code",
   "execution_count": 208,
   "id": "09709995",
   "metadata": {},
   "outputs": [
    {
     "name": "stdout",
     "output_type": "stream",
     "text": [
      "Number of documents deleted: 0\n"
     ]
    }
   ],
   "source": [
    "# Delete all documents where LocalAuthorityName is \"Dover\"\n",
    "delete_result = establishments.delete_many({\"LocalAuthorityName\": \"Dover\"})\n",
    "print(f\"Number of documents deleted: {delete_result.deleted_count}\")\n"
   ]
  },
  {
   "cell_type": "code",
   "execution_count": 209,
   "id": "46ed5b5c",
   "metadata": {},
   "outputs": [
    {
     "name": "stdout",
     "output_type": "stream",
     "text": [
      "Number of establishments in Dover after deletion: 0\n"
     ]
    }
   ],
   "source": [
    "# Confirm that no documents with LocalAuthorityName \"Dover\" remain\n",
    "dover_count_after = establishments.count_documents({\"LocalAuthorityName\": \"Dover\"})\n",
    "print(f\"Number of establishments in Dover after deletion: {dover_count_after}\")\n"
   ]
  },
  {
   "cell_type": "code",
   "execution_count": 210,
   "id": "7b2c9372",
   "metadata": {},
   "outputs": [
    {
     "data": {
      "text/plain": [
       "UpdateResult({'n': 0, 'nModified': 0, 'ok': 1.0, 'updatedExisting': False}, acknowledged=True)"
      ]
     },
     "execution_count": 210,
     "metadata": {},
     "output_type": "execute_result"
    }
   ],
   "source": [
    "# Convert latitude and longitude fields to numbers\n",
    "establishments.update_many(\n",
    "    {\"geocode.latitude\": {\"$type\": \"string\"}},\n",
    "    {\"$set\": {\"geocode.latitude\": {\"$toDouble\": \"$geocode.latitude\"}}}\n",
    ")\n",
    "\n",
    "establishments.update_many(\n",
    "    {\"geocode.longitude\": {\"$type\": \"string\"}},\n",
    "    {\"$set\": {\"geocode.longitude\": {\"$toDouble\": \"$geocode.longitude\"}}}\n",
    ")\n"
   ]
  },
  {
   "cell_type": "code",
   "execution_count": 211,
   "id": "7755ea24",
   "metadata": {},
   "outputs": [
    {
     "data": {
      "text/plain": [
       "UpdateResult({'n': 0, 'nModified': 0, 'ok': 1.0, 'updatedExisting': False}, acknowledged=True)"
      ]
     },
     "execution_count": 211,
     "metadata": {},
     "output_type": "execute_result"
    }
   ],
   "source": [
    "# Convert RatingValue field to numbers\n",
    "establishments.update_many(\n",
    "    {\"RatingValue\": {\"$type\": \"string\"}},\n",
    "    {\"$set\": {\"RatingValue\": {\"$toInt\": \"$RatingValue\"}}}\n",
    ")\n"
   ]
  },
  {
   "cell_type": "code",
   "execution_count": 212,
   "id": "0a16d43d",
   "metadata": {},
   "outputs": [
    {
     "name": "stdout",
     "output_type": "stream",
     "text": [
      "{'_id': ObjectId('6743d6b1f1930123e5ddfb8d'), 'RatingValue': 5}\n",
      "{'_id': ObjectId('6743d6b1f1930123e5ddfb8e'), 'RatingValue': 4}\n",
      "{'_id': ObjectId('6743d6b1f1930123e5ddfb90'), 'RatingValue': 5}\n",
      "{'_id': ObjectId('6743d6b1f1930123e5ddfb91'), 'RatingValue': 5}\n",
      "{'_id': ObjectId('6743d6b1f1930123e5ddfb92'), 'RatingValue': 5}\n"
     ]
    }
   ],
   "source": [
    "# Verify updated RatingValue\n",
    "for doc in establishments.find({}, {\"RatingValue\": 1}).limit(5):\n",
    "    print(doc)\n"
   ]
  },
  {
   "cell_type": "code",
   "execution_count": 213,
   "id": "379b2dc5",
   "metadata": {},
   "outputs": [
    {
     "name": "stdout",
     "output_type": "stream",
     "text": [
      "{'_id': ObjectId('6743d6b1f1930123e5ddfb8d'), 'FHRSID': 1043695, 'ChangesByServerID': 0, 'LocalAuthorityBusinessID': 'PI/000073616', 'BusinessName': 'The Pavilion', 'BusinessType': 'Restaurant/Cafe/Canteen', 'BusinessTypeID': 1, 'AddressLine1': 'East Cliff Pavilion', 'AddressLine2': 'Wear Bay Road', 'AddressLine3': 'Folkestone', 'AddressLine4': 'Kent', 'PostCode': 'CT19 6BL', 'Phone': '', 'RatingValue': 5, 'RatingKey': 'fhrs_5_en-gb', 'RatingDate': '2018-04-04T00:00:00', 'LocalAuthorityCode': '188', 'LocalAuthorityName': 'Folkestone and Hythe', 'LocalAuthorityWebSite': 'http://www.folkestone-hythe.gov.uk', 'LocalAuthorityEmailAddress': 'foodteam@folkestone-hythe.gov.uk', 'scores': {'Hygiene': 5, 'Structural': 5, 'ConfidenceInManagement': 5}, 'SchemeType': 'FHRS', 'geocode': {'longitude': {'$toDouble': '$geocode.longitude'}, 'latitude': {'$toDouble': '$geocode.latitude'}}, 'RightToReply': '', 'Distance': 4591.765489457773, 'NewRatingPending': False, 'meta': {'dataSource': None, 'extractDate': '0001-01-01T00:00:00', 'itemCount': 0, 'returncode': None, 'totalCount': 0, 'totalPages': 0, 'pageSize': 0, 'pageNumber': 0}, 'links': [{'rel': 'self', 'href': 'https://api.ratings.food.gov.uk/establishments/1043695'}]}\n",
      "{'_id': ObjectId('6743d6b1f1930123e5ddfb8e'), 'FHRSID': 647177, 'ChangesByServerID': 0, 'LocalAuthorityBusinessID': 'PI/000041489', 'BusinessName': 'Wear Bay Bowls Club', 'BusinessType': 'Pub/bar/nightclub', 'BusinessTypeID': 7843, 'AddressLine1': 'Wear Bay Road', 'AddressLine2': 'Folkestone', 'AddressLine3': 'Kent', 'AddressLine4': '', 'PostCode': 'CT19 6PY', 'Phone': '', 'RatingValue': 4, 'RatingKey': 'fhrs_4_en-gb', 'RatingDate': '2014-03-31T00:00:00', 'LocalAuthorityCode': '188', 'LocalAuthorityName': 'Folkestone and Hythe', 'LocalAuthorityWebSite': 'http://www.folkestone-hythe.gov.uk', 'LocalAuthorityEmailAddress': 'foodteam@folkestone-hythe.gov.uk', 'scores': {'Hygiene': 5, 'Structural': 5, 'ConfidenceInManagement': 10}, 'SchemeType': 'FHRS', 'geocode': {'longitude': {'$toDouble': '$geocode.longitude'}, 'latitude': {'$toDouble': '$geocode.latitude'}}, 'RightToReply': '', 'Distance': 4591.821311183521, 'NewRatingPending': False, 'meta': {'dataSource': None, 'extractDate': '0001-01-01T00:00:00', 'itemCount': 0, 'returncode': None, 'totalCount': 0, 'totalPages': 0, 'pageSize': 0, 'pageNumber': 0}, 'links': [{'rel': 'self', 'href': 'https://api.ratings.food.gov.uk/establishments/647177'}]}\n",
      "{'_id': ObjectId('6743d6b1f1930123e5ddfb90'), 'FHRSID': 289353, 'ChangesByServerID': 0, 'LocalAuthorityBusinessID': 'PI/000002468', 'BusinessName': 'St Marys COE (aided) Primary School', 'BusinessType': 'School/college/university', 'BusinessTypeID': 7845, 'AddressLine1': 'St Marys Church Of England Primary School', 'AddressLine2': 'Warren Road', 'AddressLine3': 'Folkestone', 'AddressLine4': 'Kent', 'PostCode': 'CT19 6QH', 'Phone': '', 'RatingValue': 5, 'RatingKey': 'fhrs_5_en-gb', 'RatingDate': '2016-09-13T00:00:00', 'LocalAuthorityCode': '188', 'LocalAuthorityName': 'Folkestone and Hythe', 'LocalAuthorityWebSite': 'http://www.folkestone-hythe.gov.uk', 'LocalAuthorityEmailAddress': 'foodteam@folkestone-hythe.gov.uk', 'scores': {'Hygiene': 0, 'Structural': 0, 'ConfidenceInManagement': 0}, 'SchemeType': 'FHRS', 'geocode': {'longitude': {'$toDouble': '$geocode.longitude'}, 'latitude': {'$toDouble': '$geocode.latitude'}}, 'RightToReply': '', 'Distance': 4591.871474174837, 'NewRatingPending': False, 'meta': {'dataSource': None, 'extractDate': '0001-01-01T00:00:00', 'itemCount': 0, 'returncode': None, 'totalCount': 0, 'totalPages': 0, 'pageSize': 0, 'pageNumber': 0}, 'links': [{'rel': 'self', 'href': 'https://api.ratings.food.gov.uk/establishments/289353'}]}\n",
      "{'_id': ObjectId('6743d6b1f1930123e5ddfb91'), 'FHRSID': 289560, 'ChangesByServerID': 0, 'LocalAuthorityBusinessID': 'PI/000039927', 'BusinessName': 'Mariner', 'BusinessType': 'Pub/bar/nightclub', 'BusinessTypeID': 7843, 'AddressLine1': '16 The Stade', 'AddressLine2': 'Folkestone', 'AddressLine3': 'Kent', 'AddressLine4': '', 'PostCode': 'CT19 6AB', 'Phone': '', 'RatingValue': 5, 'RatingKey': 'fhrs_5_en-gb', 'RatingDate': '2019-03-19T00:00:00', 'LocalAuthorityCode': '188', 'LocalAuthorityName': 'Folkestone and Hythe', 'LocalAuthorityWebSite': 'http://www.folkestone-hythe.gov.uk', 'LocalAuthorityEmailAddress': 'foodteam@folkestone-hythe.gov.uk', 'scores': {'Hygiene': 0, 'Structural': 5, 'ConfidenceInManagement': 0}, 'SchemeType': 'FHRS', 'geocode': {'longitude': {'$toDouble': '$geocode.longitude'}, 'latitude': {'$toDouble': '$geocode.latitude'}}, 'RightToReply': '', 'Distance': 4591.912144538092, 'NewRatingPending': False, 'meta': {'dataSource': None, 'extractDate': '0001-01-01T00:00:00', 'itemCount': 0, 'returncode': None, 'totalCount': 0, 'totalPages': 0, 'pageSize': 0, 'pageNumber': 0}, 'links': [{'rel': 'self', 'href': 'https://api.ratings.food.gov.uk/establishments/289560'}]}\n",
      "{'_id': ObjectId('6743d6b1f1930123e5ddfb92'), 'FHRSID': 289352, 'ChangesByServerID': 0, 'LocalAuthorityBusinessID': 'PI/000002460', 'BusinessName': 'The Ship', 'BusinessType': 'Pub/bar/nightclub', 'BusinessTypeID': 7843, 'AddressLine1': '23 The Stade', 'AddressLine2': 'Folkestone', 'AddressLine3': 'Kent', 'AddressLine4': '', 'PostCode': 'CT19 6AB', 'Phone': '', 'RatingValue': 5, 'RatingKey': 'fhrs_5_en-gb', 'RatingDate': '2015-08-27T00:00:00', 'LocalAuthorityCode': '188', 'LocalAuthorityName': 'Folkestone and Hythe', 'LocalAuthorityWebSite': 'http://www.folkestone-hythe.gov.uk', 'LocalAuthorityEmailAddress': 'foodteam@folkestone-hythe.gov.uk', 'scores': {'Hygiene': 5, 'Structural': 5, 'ConfidenceInManagement': 5}, 'SchemeType': 'FHRS', 'geocode': {'longitude': {'$toDouble': '$geocode.longitude'}, 'latitude': {'$toDouble': '$geocode.latitude'}}, 'RightToReply': '', 'Distance': 4591.912144538092, 'NewRatingPending': False, 'meta': {'dataSource': None, 'extractDate': '0001-01-01T00:00:00', 'itemCount': 0, 'returncode': None, 'totalCount': 0, 'totalPages': 0, 'pageSize': 0, 'pageNumber': 0}, 'links': [{'rel': 'self', 'href': 'https://api.ratings.food.gov.uk/establishments/289352'}]}\n"
     ]
    }
   ],
   "source": [
    "# Preview the first 5 documents in the establishments collection\n",
    "for doc in establishments.find().limit(5):\n",
    "    print(doc)\n"
   ]
  },
  {
   "cell_type": "code",
   "execution_count": 214,
   "id": "30e9ef31",
   "metadata": {},
   "outputs": [],
   "source": [
    "# Assign the establishments collection to a variable\n",
    "establishments = db['establishments']"
   ]
  },
  {
   "cell_type": "code",
   "execution_count": 215,
   "id": "6f158cf6",
   "metadata": {},
   "outputs": [
    {
     "name": "stdout",
     "output_type": "stream",
     "text": [
      "{'_id': 'Restaurant/Cafe/Canteen', 'count': 19707}\n",
      "{'_id': 'Retailers - other', 'count': 16374}\n",
      "{'_id': 'Takeaway/sandwich shop', 'count': 9238}\n",
      "{'_id': 'Pub/bar/nightclub', 'count': 7520}\n",
      "{'_id': 'Caring Premises', 'count': 7262}\n",
      "{'_id': 'School/college/university', 'count': 5648}\n",
      "{'_id': 'Other catering premises', 'count': 4628}\n",
      "{'_id': 'Retailers - supermarkets/hypermarkets', 'count': 2170}\n",
      "{'_id': 'Mobile caterer', 'count': 1842}\n",
      "{'_id': 'Hotel/bed & breakfast/guest house', 'count': 1658}\n",
      "{'_id': 'Manufacturers/packers', 'count': 846}\n",
      "{'_id': 'Distributors/Transporters', 'count': 424}\n",
      "{'_id': 'Farmers/growers', 'count': 186}\n",
      "{'_id': 'Importers/Exporters', 'count': 70}\n",
      "{'_id': 'Restaurant', 'count': 11}\n",
      "{'_id': None, 'count': 5}\n"
     ]
    }
   ],
   "source": [
    "# Group by BusinessType and count\n",
    "pipeline = [\n",
    "    {\"$group\": {\"_id\": \"$BusinessType\", \"count\": {\"$sum\": 1}}},\n",
    "    {\"$sort\": {\"count\": -1}}\n",
    "]\n",
    "\n",
    "# Execute the aggregation\n",
    "results = list(establishments.aggregate(pipeline))\n",
    "\n",
    "# Print the results\n",
    "for result in results:\n",
    "    print(result)\n"
   ]
  },
  {
   "cell_type": "code",
   "execution_count": 216,
   "id": "f09aff75",
   "metadata": {},
   "outputs": [
    {
     "data": {
      "image/png": "[encoded data removed]",
      "text/plain": [
       "<Figure size 1000x600 with 1 Axes>"
      ]
     },
     "metadata": {},
     "output_type": "display_data"
    }
   ],
   "source": [
    "# Extract data for visualization\n",
    "# Top 10 Business Types\n",
    "business_types = [item['_id'] for item in results[:10]]  \n",
    "# Their respective counts\n",
    "counts = [item['count'] for item in results[:10]]       \n",
    "\n",
    "# Create the bar chart\n",
    "plt.figure(figsize=(10, 6))\n",
    "plt.barh(business_types, counts, color='skyblue')\n",
    "plt.xlabel('Count')\n",
    "plt.ylabel('Business Type')\n",
    "plt.title('Top 10 Business Types by Count')\n",
    "plt.gca().invert_yaxis()  \n",
    "plt.show()\n"
   ]
  }
 ],
 "metadata": {
  "kernelspec": {
   "display_name": "base",
   "language": "python",
   "name": "python3"
  },
  "language_info": {
   "codemirror_mode": {
    "name": "ipython",
    "version": 3
   },
   "file_extension": ".py",
   "mimetype": "text/x-python",
   "name": "python",
   "nbconvert_exporter": "python",
   "pygments_lexer": "ipython3",
   "version": "3.12.3"
  }
 },
 "nbformat": 4,
 "nbformat_minor": 5
}
